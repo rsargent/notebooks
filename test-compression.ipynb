{
 "cells": [
  {
   "cell_type": "markdown",
   "metadata": {},
   "source": [
    "[Specifying shader URL, with uniforms](https://docs.google.com/document/d/1QvCvey8HaUi6SP-p36ZVwh2NGqzB_cqU_KHrAj8yFtY/edit)\n",
    "\n",
    "[Binder notebook update](http://mybinder.org/status/rsargent/notebooks)\n",
    "\n",
    "Saved (10): Tues 10/11 11:28am"
   ]
  },
  {
   "cell_type": "code",
   "execution_count": 10,
   "metadata": {
    "collapsed": true
   },
   "outputs": [],
   "source": [
    "import array, gzip, StringIO, struct, urllib, urllib2\n",
    "\n",
    "def benchmark(label, data):\n",
    "    zipped = StringIO.StringIO()\n",
    "    zipper = gzip.GzipFile(fileobj = zipped, mode='wb')\n",
    "    zipper.write(data)\n",
    "    zipper.close()\n",
    "    print \"%.2fM / %.2fM: %s\" % (len(zipped.getvalue()) / 1e6, len(data) / 1e6, label)\n",
    "\n",
    "def encode_field(fieldspec, value):\n",
    "    if 'min' in fieldspec and 'max' in fieldspec:\n",
    "        value = (float(value) - fieldspec['min']) / (fieldspec['max'] - fieldspec['min'])\n",
    "    if fieldspec['type'] == 'float':\n",
    "        return struct.pack('<f', value)\n",
    "    elif fieldspec['type'] == 'fix2':\n",
    "        return struct.pack('<H', min(0xffff, max(0, int(round(value * 0xffff)))))\n",
    "    elif fieldspec['type'] == 'fix3':\n",
    "        return struct.pack('<I', min(0xffffff, max(0, int(round(value * 0xffffff)))))[0:3]\n",
    "    else:\n",
    "        raise Exception('encode_field giving up')\n",
    "\n",
    "def decode_field(fieldspec, stream):\n",
    "    if fieldspec['type'] == 'float':\n",
    "        value = struct.unpack('<f', stream.read(4))[0]\n",
    "    elif fieldspec['type'] == 'fix2':\n",
    "        value = struct.unpack('<H', stream.read(2))[0] / float(0xffff)\n",
    "    elif fieldspec['type'] == 'fix3':\n",
    "        value = struct.unpack('<I', stream.read(3) + '\\000')[0] / float(0xffffff)\n",
    "    else:\n",
    "        raise Exception('encode_field giving up')\n",
    "    if 'min' in fieldspec and 'max' in fieldspec:\n",
    "        value = value * (fieldspec['max'] - fieldspec['min']) + (value - fieldspec['min'])\n",
    "    return value\n",
    "\n",
    "def field_length(fieldspec):\n",
    "    return len(encode_field(fieldspec, 0))\n",
    "\n",
    "def spec_length(spec):\n",
    "    ret = 0\n",
    "    for fieldspec in spec['fields']:\n",
    "        ret += field_length(fieldspec)\n",
    "    return ret\n",
    "        \n",
    "def decode_row_major(spec, stream, stream_length):\n",
    "    nfields = len(spec['fields'])\n",
    "    if stream_length % spec_length(spec) != 0:\n",
    "        raise Exception('streamlength %d should be multiple of spec_length %d' % (stream_length, spec_length(spec)))\n",
    "    ret = []\n",
    "    for r in range(0, stream_length / spec_length(spec)):\n",
    "        for c in range(0, nfields):\n",
    "            ret.append(decode_field(spec['fields'][c], stream))\n",
    "    return ret\n",
    "\n",
    "def encode_row_major(spec, data):\n",
    "    nfields = len(spec['fields'])\n",
    "    if len(data) % nfields != 0:\n",
    "        raise Exception('Data length should be a multiple of nfields')\n",
    "    ret = []\n",
    "    for r in range(0, len(data), nfields):\n",
    "        for c in range(0, nfields):\n",
    "            ret.append(encode_field(spec['fields'][c], data[r + c]))\n",
    "    return ''.join(ret)\n",
    "\n",
    "def encode_col_major(spec, data):\n",
    "    nfields = len(spec['fields'])\n",
    "    if len(data) % nfields != 0:\n",
    "        raise Exception('Data length should be a multiple of nfields')\n",
    "    ret = []\n",
    "    for c in range(0, nfields):\n",
    "        for r in range(0, len(data), nfields):\n",
    "            ret.append(encode_field(spec['fields'][c], data[r + c]))\n",
    "    return ''.join(ret)\n",
    "\n",
    "def encode_col_major_delta(spec, data):\n",
    "    nfields = len(spec['fields'])\n",
    "    if len(data) % nfields != 0:\n",
    "        raise Exception('Data length should be a multiple of nfields')\n",
    "    ret = []\n",
    "    for c in range(0, nfields):\n",
    "        for r in range(0, len(data), nfields):\n",
    "            if r == 0:\n",
    "                ret.append(encode_field(spec['fields'][c], data[r + c]))\n",
    "            else:\n",
    "                ret.append(encode_field(spec['fields'][c], data[r + c] - data[r - nfields + c]))\n",
    "    return ''.join(ret)\n",
    "\n",
    "def benchmark_encoding(label, spec, data):\n",
    "    benchmark(label + ' row-major', encode_row_major(spec, data))\n",
    "    benchmark(label + ' col-major', encode_col_major(spec, data))\n",
    "    benchmark(label + ' col-major-delta', encode_col_major_delta(spec, data))\n",
    "    "
   ]
  },
  {
   "cell_type": "code",
   "execution_count": 11,
   "metadata": {
    "collapsed": false
   },
   "outputs": [
    {
     "name": "stdout",
     "output_type": "stream",
     "text": [
      "18.41M / 26.06M: xyz_time float row-major\n"
     ]
    }
   ],
   "source": [
    "xyz_time_bin = open('viirs-2014.timev').read()\n",
    "benchmark(\"xyz_time float row-major\", xyz_time_bin)\n",
    "xyz_time = array.array('f', xyz_time_bin)"
   ]
  },
  {
   "cell_type": "code",
   "execution_count": 12,
   "metadata": {
    "collapsed": false
   },
   "outputs": [
    {
     "name": "stdout",
     "output_type": "stream",
     "text": [
      "15.16M / 26.06M: lonlat_time_temp float row-major\n"
     ]
    }
   ],
   "source": [
    "lonlat_time_temp_bin = urllib2.urlopen('https://data.cmucreatelab.org/createlab-viirs/createlab-viirs-uncorrected-20140314-20150403.bin').read()\n",
    "benchmark(\"lonlat_time_temp float row-major\", lonlat_time_temp_bin)\n",
    "lonlat_time_temp = array.array('f', lonlat_time_temp_bin)"
   ]
  },
  {
   "cell_type": "code",
   "execution_count": 14,
   "metadata": {
    "collapsed": false
   },
   "outputs": [
    {
     "name": "stdout",
     "output_type": "stream",
     "text": [
      "11.30M / 19.54M: lonlat_time float row-major\n"
     ]
    }
   ],
   "source": [
    "lonlat_time = []\n",
    "for i in range(0, len(lonlat_time_temp), 4):\n",
    "    lonlat_time.append(lonlat_time_temp[i + 0])\n",
    "    lonlat_time.append(lonlat_time_temp[i + 1])\n",
    "    lonlat_time.append(lonlat_time_temp[i + 2])\n",
    "lonlat_time_bin = array.array('f', lonlat_time).tostring()\n",
    "benchmark(\"lonlat_time float row-major\", lonlat_time_bin)"
   ]
  },
  {
   "cell_type": "code",
   "execution_count": 15,
   "metadata": {
    "collapsed": false
   },
   "outputs": [
    {
     "name": "stdout",
     "output_type": "stream",
     "text": [
      "11.30M / 19.54M: lonlat_time fff row-major\n",
      "11.12M / 19.54M: lonlat_time fff col-major\n",
      "10.57M / 19.54M: lonlat_time fff col-major-delta\n"
     ]
    }
   ],
   "source": [
    "spec_fff = { \n",
    "    'stride': 12,\n",
    "    'fields':[{'name':'lon', 'type':'float'},\n",
    "              {'name':'lat', 'type':'float'},\n",
    "              {'name':'time', 'type':'float'}]}\n",
    "\n",
    "benchmark_encoding('lonlat_time fff', spec_fff, lonlat_time)"
   ]
  },
  {
   "cell_type": "code",
   "execution_count": 16,
   "metadata": {
    "collapsed": false
   },
   "outputs": [
    {
     "name": "stdout",
     "output_type": "stream",
     "text": [
      "4.94M / 13.03M: lonlat_time 332 row-major\n",
      "4.36M / 13.03M: lonlat_time 332 col-major\n",
      "8.61M / 13.03M: lonlat_time 332 col-major-delta\n"
     ]
    }
   ],
   "source": [
    "# lat and lon encoded as 24-bit fixed point, ~2m resolution\n",
    "# (radius of earth * 2 * pi) / (2^24)\n",
    "# time encoded as day number since posix epoch\n",
    "\n",
    "spec_332 = { \n",
    "    'stride': 8,\n",
    "    'fields':[{'name':'lon', 'type':'fix3', 'min':-180, 'max':180},\n",
    "              {'name':'lat', 'type':'fix3', 'min':-90, 'max':90},\n",
    "              {'name':'time', 'type':'fix2', 'min':0, 'max':5662224000}]}\n",
    "\n",
    "benchmark_encoding('lonlat_time 332', spec_332, lonlat_time)"
   ]
  },
  {
   "cell_type": "code",
   "execution_count": null,
   "metadata": {
    "collapsed": true
   },
   "outputs": [],
   "source": [
    "# Testing\n",
    "\n",
    "foo = encode_row_major(spec_fff, lonlat_time[0:12])\n",
    "print lonlat_time[0:12]\n",
    "print decode_row_major(spec_fff, StringIO.StringIO(foo), len(foo))\n",
    "\n",
    "foo = encode_row_major(spec_332, lonlat_time[0:12])\n",
    "print len(foo)\n",
    "print decode_row_major(spec_332, StringIO.StringIO(foo), len(foo))\n",
    "\n",
    "field_spec = {'name':'foo', 'type':'fix2', 'min':0, 'max':5662224000}\n",
    "f = encode_field(field_spec, 0)\n",
    "print decode_field(field_spec, StringIO.StringIO(f))\n",
    "f = encode_field(field_spec, 84600)\n",
    "print \" \".join(\"{:02x}\".format(ord(c)) for c in f)\n",
    "print decode_field(field_spec, StringIO.StringIO(f))"
   ]
  }
 ],
 "metadata": {
  "anaconda-cloud": {},
  "kernelspec": {
   "display_name": "Python [default]",
   "language": "python",
   "name": "python2"
  },
  "language_info": {
   "codemirror_mode": {
    "name": "ipython",
    "version": 2
   },
   "file_extension": ".py",
   "mimetype": "text/x-python",
   "name": "python",
   "nbconvert_exporter": "python",
   "pygments_lexer": "ipython2",
   "version": "2.7.12"
  }
 },
 "nbformat": 4,
 "nbformat_minor": 0
}
