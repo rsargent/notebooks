{
 "cells": [
  {
   "cell_type": "markdown",
   "metadata": {},
   "source": [
    "[Specifying shader URL, with uniforms](https://docs.google.com/document/d/1QvCvey8HaUi6SP-p36ZVwh2NGqzB_cqU_KHrAj8yFtY/edit)\n",
    "\n",
    "[Binder notebook update](http://mybinder.org/status/rsargent/notebooks)\n",
    "\n",
    "(hal3 / anaconda)"
   ]
  },
  {
   "cell_type": "code",
   "execution_count": 1,
   "metadata": {
    "collapsed": false
   },
   "outputs": [],
   "source": [
    "import array, gzip, math, numpy, StringIO, struct, urllib, urllib2\n",
    "\n",
    "def benchmark(label, data):\n",
    "    zipped = StringIO.StringIO()\n",
    "    zipper = gzip.GzipFile(fileobj = zipped, mode='wb')\n",
    "    zipper.write(data)\n",
    "    zipper.close()\n",
    "    print \"%.2fM / %.2fM: %s\" % (len(zipped.getvalue()) / 1e6, len(data) / 1e6, label)\n",
    "\n",
    "def encode_field(fieldspec, value):\n",
    "    if 'min' in fieldspec and 'max' in fieldspec:\n",
    "        value = (float(value) - fieldspec['min']) / (fieldspec['max'] - fieldspec['min'])\n",
    "    if fieldspec['type'] == 'float':\n",
    "        return struct.pack('<f', value)\n",
    "    elif fieldspec['type'] == 'fix2':\n",
    "        return struct.pack('<H', min(0xffff, max(0, int(round(value * 0xffff)))))\n",
    "    elif fieldspec['type'] == 'fix3':\n",
    "        return struct.pack('<I', min(0xffffff, max(0, int(round(value * 0xffffff)))))[0:3]\n",
    "    else:\n",
    "        raise Exception('encode_field giving up')\n",
    "\n",
    "def decode_field(fieldspec, stream):\n",
    "    if fieldspec['type'] == 'float':\n",
    "        value = struct.unpack('<f', stream.read(4))[0]\n",
    "    elif fieldspec['type'] == 'fix2':\n",
    "        value = struct.unpack('<H', stream.read(2))[0] / float(0xffff)\n",
    "    elif fieldspec['type'] == 'fix3':\n",
    "        value = struct.unpack('<I', stream.read(3) + '\\000')[0] / float(0xffffff)\n",
    "    else:\n",
    "        raise Exception('encode_field giving up')\n",
    "    if 'min' in fieldspec and 'max' in fieldspec:\n",
    "        value = value * (fieldspec['max'] - fieldspec['min']) + fieldspec['min']\n",
    "    return value\n",
    "\n",
    "def field_length(fieldspec):\n",
    "    return len(encode_field(fieldspec, 0))\n",
    "\n",
    "def spec_length(spec):\n",
    "    ret = 0\n",
    "    for fieldspec in spec['fields']:\n",
    "        ret += field_length(fieldspec)\n",
    "    return ret\n",
    "        \n",
    "def encode_row_major(spec, data):\n",
    "    nfields = len(spec['fields'])\n",
    "    if len(data) % nfields != 0:\n",
    "        raise Exception('Data length should be a multiple of nfields')\n",
    "    ret = []\n",
    "    for r in range(0, len(data), nfields):\n",
    "        for c in range(0, nfields):\n",
    "            ret.append(encode_field(spec['fields'][c], data[r + c]))\n",
    "    return ''.join(ret)\n",
    "\n",
    "def decode_row_major(spec, stream, stream_length):\n",
    "    nfields = len(spec['fields'])\n",
    "    if stream_length % spec_length(spec) != 0:\n",
    "        raise Exception('streamlength %d should be multiple of spec_length %d' % (stream_length, spec_length(spec)))\n",
    "    ret = []\n",
    "    for r in range(0, stream_length / spec_length(spec)):\n",
    "        for c in range(0, nfields):\n",
    "            ret.append(decode_field(spec['fields'][c], stream))\n",
    "    return ret\n",
    "\n",
    "def encode_col_major(spec, data):\n",
    "    nfields = len(spec['fields'])\n",
    "    if len(data) % nfields != 0:\n",
    "        raise Exception('Data length should be a multiple of nfields')\n",
    "    ret = []\n",
    "    for c in range(0, nfields):\n",
    "        for r in range(0, len(data), nfields):\n",
    "            ret.append(encode_field(spec['fields'][c], data[r + c]))\n",
    "    return ''.join(ret)\n",
    "\n",
    "def decode_col_major(spec, stream, stream_length):\n",
    "    nfields = len(spec['fields'])\n",
    "    nrows = stream_length / spec_length(spec)\n",
    "    if stream_length % spec_length(spec) != 0:\n",
    "        raise Exception('streamlength %d should be multiple of spec_length %d' % (stream_length, spec_length(spec)))\n",
    "    col_major = []\n",
    "    for c in range(0, nfields):\n",
    "        for r in range(0, nrows):\n",
    "            col_major.append(decode_field(spec['fields'][c], stream))\n",
    "    row_major = []\n",
    "    for r in range(0, nrows):\n",
    "        for c in range(0, nfields):\n",
    "            row_major.append(col_major[c * nrows + r])\n",
    "    return row_major\n",
    "\n",
    "def encode_col_major_delta(spec, data):\n",
    "    nfields = len(spec['fields'])\n",
    "    if len(data) % nfields != 0:\n",
    "        raise Exception('Data length should be a multiple of nfields')\n",
    "    ret = []\n",
    "    for c in range(0, nfields):\n",
    "        field_spec = spec['fields'][c]\n",
    "        if 'min' in field_spec and 'max' in field_spec:\n",
    "            prev = (field_spec['min'] + field_spec['max']) / 2.0\n",
    "        else:\n",
    "            prev = 0.0\n",
    "        for r in range(0, len(data), nfields):\n",
    "            # ideal_delta is the value we want to encode\n",
    "            ideal_delta = data[r + c] - prev\n",
    "            encoded = encode_field(spec['fields'][c], ideal_delta)\n",
    "            ret.append(encoded)\n",
    "            # encoded_delta is the value we actually encoded, after rounding\n",
    "            encoded_delta = decode_field(spec['fields'][c], StringIO.StringIO(encoded))\n",
    "            prev = prev + encoded_delta\n",
    "    return ''.join(ret)\n",
    "\n",
    "def decode_col_major_delta(spec, stream, stream_length):\n",
    "    nfields = len(spec['fields'])\n",
    "    nrows = stream_length / spec_length(spec)\n",
    "    if stream_length % spec_length(spec) != 0:\n",
    "        raise Exception('streamlength %d should be multiple of spec_length %d' % (stream_length, spec_length(spec)))\n",
    "    col_major = []\n",
    "    for c in range(0, nfields):\n",
    "        field_spec = spec['fields'][c]\n",
    "        if 'min' in field_spec and 'max' in field_spec:\n",
    "            prev = (field_spec['min'] + field_spec['max']) / 2.0\n",
    "        else:\n",
    "            prev = 0.0\n",
    "        for r in range(0, nrows):\n",
    "            current = decode_field(spec['fields'][c], stream) + prev\n",
    "            col_major.append(current)\n",
    "            prev = current\n",
    "    row_major = []\n",
    "    for r in range(0, nrows):\n",
    "        for c in range(0, nfields):\n",
    "            row_major.append(col_major[c * nrows + r])\n",
    "    return row_major\n",
    "\n",
    "def benchmark_encoding(label, spec, data):\n",
    "    benchmark(label + ' row-major', encode_row_major(spec, data))\n",
    "    benchmark(label + ' col-major', encode_col_major(spec, data))\n",
    "    benchmark(label + ' col-major-delta', encode_col_major_delta(spec, data))\n",
    "\n",
    "def analyze_columns(spec, data):\n",
    "    ncols = len(spec['fields'])\n",
    "    for c in range(0, ncols):\n",
    "        vals = []\n",
    "        for i in range(c, len(data), ncols):\n",
    "            vals.append(data[i])\n",
    "        print '%s: min %g, max %g, mean %g, stddev %g' % (spec['fields'][c]['name'],\n",
    "            numpy.min(vals), numpy.max(vals), numpy.mean(vals), numpy.std(vals))\n",
    "        \n",
    "def compare_data(spec, a, b):\n",
    "    if len(a) != len(b):\n",
    "        raise Exception('a and b should be same length in compare_data')\n",
    "    ncols = len(spec['fields'])\n",
    "    for c in range(0, ncols):\n",
    "        deltas = []\n",
    "        for i in range(c, len(a), ncols):\n",
    "            deltas.append(a[i] - b[i])\n",
    "            if c == 0 and a[i] - b[i] > 0.1:\n",
    "                print 'col 0 offset %d %g %g' % (i, a[i], b[i])\n",
    "                return\n",
    "        deltas = numpy.array(deltas)\n",
    "        print '%s: error min %g, max %g, mean %g, stddev %g' % (spec['fields'][c]['name'],\n",
    "            numpy.min(deltas), numpy.max(deltas), numpy.mean(deltas), numpy.std(deltas))"
   ]
  },
  {
   "cell_type": "code",
   "execution_count": 2,
   "metadata": {
    "collapsed": true
   },
   "outputs": [],
   "source": [
    "class GenericWebMercator(object):\n",
    "    def __init__(self, west, north, east, south, width, height):\n",
    "        self.west = west\n",
    "        self.north = north\n",
    "        self.east = east\n",
    "        self.south = south\n",
    "        self.width = width\n",
    "        self.height = height\n",
    "    \n",
    "    @staticmethod\n",
    "    def rawProjectLat(lat):\n",
    "        return math.log((1.0 + math.sin(lat * math.pi / 180.0)) / math.cos(lat * math.pi / 180.0))\n",
    "\n",
    "    @staticmethod\n",
    "    def rawUnprojectLat(y):\n",
    "        return (2.0 * math.atan(math.exp(y)) - math.pi / 2.0) * 180.0 / math.pi\n",
    "\n",
    "    @staticmethod\n",
    "    def interpolate(x, fromLow, fromHigh, toLow, toHigh):\n",
    "        return (x - fromLow) / (fromHigh - fromLow) * (toHigh - toLow) + toLow\n",
    "\n",
    "    def latlngToPoint(self, lat, lng):\n",
    "        x = self.interpolate(lng, self.west, self.east, 0, self.width)\n",
    "        y = self.interpolate(self.rawProjectLat(lat), self.rawProjectLat(self.north),\n",
    "                             self.rawProjectLat(self.south), 0, self.height)\n",
    "        return (x,y)\n",
    "\n",
    "    def pointToLatlng(self, x, y):\n",
    "        lng = self.interpolate(x, 0, self.width, self.west, self.east);\n",
    "        lat = self.rawUnprojectLat(self.interpolate(y, 0, self.height, \n",
    "                                                    self.rawProjectLat(self.north), self.rawProjectLat(self.south)));\n",
    "        return (lat, lng)\n",
    "\n",
    "class StandardWebMercator(GenericWebMercator):\n",
    "    def __init__(self):\n",
    "        super(StandardWebMercator, self).__init__(-180.0, 85.05112877980659, 180.0, -85.05112877980659, 256.0, 256.0)\n",
    "\n",
    "\n",
    "#def test(x, y):\n",
    "#    proj = StandardWebMercator()\n",
    "#    (lat, lng) = proj.pointToLatlng(x, y)\n",
    "#    (newx, newy) = proj.latlngToPoint(lat, lng)\n",
    "#    print \"%g,%g -> %g,%g -> %g,%g\" % (x, y, lat, lng, x, y)\n",
    "#\n",
    "#test(0,0)\n",
    "#test(128,128)\n",
    "#test(256,256)\n",
    "#test(0,256)\n",
    "#test(256,0)"
   ]
  },
  {
   "cell_type": "code",
   "execution_count": 3,
   "metadata": {
    "collapsed": false
   },
   "outputs": [
    {
     "name": "stdout",
     "output_type": "stream",
     "text": [
      "18.41M / 26.06M: xyz_time float row-major\n"
     ]
    }
   ],
   "source": [
    "xyz_time_bin = open('viirs-2014.timev').read()\n",
    "benchmark(\"xyz_time float row-major\", xyz_time_bin)\n",
    "xyz_time = array.array('f', xyz_time_bin)"
   ]
  },
  {
   "cell_type": "code",
   "execution_count": 4,
   "metadata": {
    "collapsed": false
   },
   "outputs": [
    {
     "name": "stdout",
     "output_type": "stream",
     "text": [
      "15.16M / 26.06M: mercatorxy_time_temp float row-major\n",
      "15.16M / 26.06M: lonlat_time_temp float row-major\n",
      "lon: min -179.877, max 179.916, mean 31.4941, stddev 70.3391\n",
      "lat: min -88.6965, max 88.328, mean 20.9391, stddev 26.8721\n",
      "time: min 1.39477e+09, max 1.42812e+09, mean 1.41212e+09, stddev 9.44536e+06\n",
      "temp: min 506, max 2500, mean 1319.43, stddev 358.935\n"
     ]
    }
   ],
   "source": [
    "lonlat_time_temp_bin = urllib2.urlopen('https://data.cmucreatelab.org/createlab-viirs/createlab-viirs-uncorrected-20140314-20150403.bin').read()\n",
    "benchmark(\"mercatorxy_time_temp float row-major\", lonlat_time_temp_bin)\n",
    "lonlat_time_temp = array.array('f', lonlat_time_temp_bin)\n",
    "# Convert Epoch-based time from milliseconds to seconds\n",
    "for i in range(2, len(lonlat_time_temp), 4):\n",
    "    lonlat_time_temp[i] /= 1000\n",
    "\n",
    "# Convert xy mercator to lonlat\n",
    "proj = StandardWebMercator()\n",
    "for i in range(0, len(lonlat_time_temp), 4):\n",
    "    (lonlat_time_temp[i + 1], lonlat_time_temp[i + 0]) = proj.pointToLatlng(lonlat_time_temp[i + 0], lonlat_time_temp[i + 1])\n",
    "\n",
    "benchmark(\"lonlat_time_temp float row-major\", lonlat_time_temp_bin)\n",
    "\n",
    "spec_ffff = { \n",
    "    'stride': 16,\n",
    "    'fields':[{'name':'lon', 'type':'float'},\n",
    "              {'name':'lat', 'type':'float'},\n",
    "              {'name':'time', 'type':'float'},\n",
    "              {'name':'temp', 'type':'float'}]}\n",
    "\n",
    "\n",
    "analyze_columns(spec_ffff, lonlat_time_temp)"
   ]
  },
  {
   "cell_type": "code",
   "execution_count": 5,
   "metadata": {
    "collapsed": false
   },
   "outputs": [
    {
     "name": "stdout",
     "output_type": "stream",
     "text": [
      "12.11M / 19.54M: lonlat_time float row-major\n"
     ]
    }
   ],
   "source": [
    "lonlat_time = []\n",
    "for i in range(0, len(lonlat_time_temp), 4):\n",
    "    lonlat_time.append(lonlat_time_temp[i + 0])\n",
    "    lonlat_time.append(lonlat_time_temp[i + 1])\n",
    "    lonlat_time.append(lonlat_time_temp[i + 2])\n",
    "lonlat_time_bin = array.array('f', lonlat_time).tostring()\n",
    "benchmark(\"lonlat_time float row-major\", lonlat_time_bin)"
   ]
  },
  {
   "cell_type": "code",
   "execution_count": 6,
   "metadata": {
    "collapsed": false
   },
   "outputs": [
    {
     "name": "stdout",
     "output_type": "stream",
     "text": [
      "12.11M / 19.54M: lonlat_time fff row-major\n",
      "11.85M / 19.54M: lonlat_time fff col-major\n",
      "11.32M / 19.54M: lonlat_time fff col-major-delta\n"
     ]
    }
   ],
   "source": [
    "spec_fff = { \n",
    "    'stride': 12,\n",
    "    'fields':[{'name':'lon', 'type':'float'},\n",
    "              {'name':'lat', 'type':'float'},\n",
    "              {'name':'time', 'type':'float'}]}\n",
    "\n",
    "benchmark_encoding('lonlat_time fff', spec_fff, lonlat_time)"
   ]
  },
  {
   "cell_type": "code",
   "execution_count": 7,
   "metadata": {
    "collapsed": false
   },
   "outputs": [
    {
     "name": "stdout",
     "output_type": "stream",
     "text": [
      "9.98M / 13.03M: lonlat_time 332 row-major\n",
      "9.49M / 13.03M: lonlat_time 332 col-major\n",
      "8.38M / 13.03M: lonlat_time 332 col-major-delta\n"
     ]
    }
   ],
   "source": [
    "# lat and lon encoded as 24-bit fixed point, ~2m resolution\n",
    "# (radius of earth * 2 * pi) / (2^24)\n",
    "# time encoded as day number since posix epoch\n",
    "\n",
    "\n",
    "# 23 bits for lat and lng, approx 5 meter resolution\n",
    "spec_332 = { \n",
    "    'stride': 8,\n",
    "    'fields':[{'name':'lon', 'type':'fix3', 'min':-360, 'max':360},\n",
    "              {'name':'lat', 'type':'fix3', 'min':-180, 'max':180},\n",
    "              {'name':'time', 'type':'fix2', 'min':-2831112000, 'max':2831112000}]}\n",
    "\n",
    "benchmark_encoding('lonlat_time 332', spec_332, lonlat_time)"
   ]
  },
  {
   "cell_type": "code",
   "execution_count": 8,
   "metadata": {
    "collapsed": false
   },
   "outputs": [
    {
     "name": "stdout",
     "output_type": "stream",
     "text": [
      "9.71M / 13.03M: lonlat_time 332 row-major\n",
      "9.27M / 13.03M: lonlat_time 332 col-major\n",
      "8.09M / 13.03M: lonlat_time 332 col-major-delta\n"
     ]
    }
   ],
   "source": [
    "# 22 bits for lat and lng, approx 10 meter resolution\n",
    "spec_332 = { \n",
    "    'stride': 8,\n",
    "    'fields':[{'name':'lon', 'type':'fix3', 'min':-720, 'max':720},\n",
    "              {'name':'lat', 'type':'fix3', 'min':-360, 'max':360},\n",
    "              {'name':'time', 'type':'fix2', 'min':-2831112000, 'max':2831112000}]}\n",
    "\n",
    "benchmark_encoding('lonlat_time 332', spec_332, lonlat_time)"
   ]
  },
  {
   "cell_type": "code",
   "execution_count": 9,
   "metadata": {
    "collapsed": false
   },
   "outputs": [
    {
     "name": "stdout",
     "output_type": "stream",
     "text": [
      "9.41M / 13.03M: lonlat_time 332 row-major\n",
      "8.99M / 13.03M: lonlat_time 332 col-major\n",
      "7.78M / 13.03M: lonlat_time 332 col-major-delta\n"
     ]
    }
   ],
   "source": [
    "# 21 bits for lat and lng, approx 20 meter resolution\n",
    "spec_332 = { \n",
    "    'stride': 8,\n",
    "    'fields':[{'name':'lon', 'type':'fix3', 'min':-1440, 'max':1440},\n",
    "              {'name':'lat', 'type':'fix3', 'min':-720, 'max':720},\n",
    "              {'name':'time', 'type':'fix2', 'min':-2831112000, 'max':2831112000}]}\n",
    "\n",
    "benchmark_encoding('lonlat_time 332', spec_332, lonlat_time)"
   ]
  },
  {
   "cell_type": "code",
   "execution_count": 10,
   "metadata": {
    "collapsed": false
   },
   "outputs": [
    {
     "name": "stdout",
     "output_type": "stream",
     "text": [
      "13028448\n",
      "4885668\n",
      "lon: error min -8.58307e-05, max 8.58307e-05, mean 3.95415e-06, stddev 4.94447e-05\n",
      "lat: error min -4.29153e-05, max 4.29152e-05, mean -5.21171e-08, stddev 2.47848e-05\n",
      "time: error min -43200, max 43072, mean -9233.7, stddev 27570.8\n"
     ]
    }
   ],
   "source": [
    "# Test column major encoding\n",
    "\n",
    "encoded = encode_col_major(spec_332, lonlat_time)\n",
    "print len(encoded)\n",
    "decoded = decode_col_major(spec_332, StringIO.StringIO(encoded), len(encoded))\n",
    "print len(decoded)\n",
    "compare_data(spec_332, lonlat_time, decoded)"
   ]
  },
  {
   "cell_type": "code",
   "execution_count": 11,
   "metadata": {
    "collapsed": false
   },
   "outputs": [
    {
     "name": "stdout",
     "output_type": "stream",
     "text": [
      "13028448\n",
      "4885668\n",
      "lon: error min -8.58307e-05, max 8.58307e-05, mean 4.53593e-06, stddev 4.9399e-05\n",
      "lat: error min -4.29153e-05, max 4.29153e-05, mean -7.02081e-09, stddev 2.47727e-05\n",
      "time: error min -43200, max 43136, mean -830.825, stddev 25181.6\n"
     ]
    }
   ],
   "source": [
    "# Test column major delta encoding\n",
    "\n",
    "encoded = encode_col_major_delta(spec_332, lonlat_time)\n",
    "print len(encoded)\n",
    "decoded = decode_col_major_delta(spec_332, StringIO.StringIO(encoded), len(encoded))\n",
    "print len(decoded)\n",
    "compare_data(spec_332, lonlat_time, decoded)"
   ]
  },
  {
   "cell_type": "code",
   "execution_count": 12,
   "metadata": {
    "collapsed": false
   },
   "outputs": [
    {
     "name": "stdout",
     "output_type": "stream",
     "text": [
      "[60.510658264160156, 67.65991973876953, 1394773760.0, 60.52228546142578, 67.6534652709961, 1394773760.0, 58.64055633544922, 68.29972076416016, 1394773760.0, 57.962215423583984, 68.61719512939453, 1394773760.0]\n",
      "[60.510658264160156, 67.65991973876953, 1394773760.0, 60.52228546142578, 67.6534652709961, 1394773760.0, 58.64055633544922, 68.29972076416016, 1394773760.0, 57.962215423583984, 68.61719512939453, 1394773760.0]\n",
      "32\n",
      "[60.51072481338542, 67.65994952082337, 1394798400.0, 60.522226126326814, 67.65342638811035, 1394798400.0, 58.6404740000055, 68.29973151086165, 1394798400.0, 57.9622398592378, 68.6172192464602, 1394798400.0]\n",
      "0.0\n",
      "01 00\n",
      "86400.0\n",
      "0f 3f\n",
      "1394755200.0\n",
      "05 9f f9\n",
      "171.029791297\n"
     ]
    }
   ],
   "source": [
    "# Testing\n",
    "\n",
    "foo = encode_row_major(spec_fff, lonlat_time[0:12])\n",
    "print lonlat_time[0:12]\n",
    "print decode_row_major(spec_fff, StringIO.StringIO(foo), len(foo))\n",
    "\n",
    "foo = encode_row_major(spec_332, lonlat_time[0:12])\n",
    "print len(foo)\n",
    "print decode_row_major(spec_332, StringIO.StringIO(foo), len(foo))\n",
    "\n",
    "field_spec = {'name':'foo', 'type':'fix2', 'min':0, 'max':5662224000}\n",
    "f = encode_field(field_spec, 0)\n",
    "print decode_field(field_spec, StringIO.StringIO(f))\n",
    "f = encode_field(field_spec, 84600)\n",
    "print \" \".join(\"{:02x}\".format(ord(c)) for c in f)\n",
    "print decode_field(field_spec, StringIO.StringIO(f))\n",
    "\n",
    "f = encode_field(field_spec, 1394773760.0)\n",
    "print \" \".join(\"{:02x}\".format(ord(c)) for c in f)\n",
    "print decode_field(field_spec, StringIO.StringIO(f))\n",
    "\n",
    "field_spec = {'name':'lon', 'type':'fix3', 'min':-180, 'max':180}\n",
    "f = encode_field(field_spec, 171.02980041503906)\n",
    "print \" \".join(\"{:02x}\".format(ord(c)) for c in f)\n",
    "print decode_field(field_spec, StringIO.StringIO(f))\n",
    "\n"
   ]
  },
  {
   "cell_type": "code",
   "execution_count": null,
   "metadata": {
    "collapsed": true
   },
   "outputs": [],
   "source": []
  }
 ],
 "metadata": {
  "anaconda-cloud": {},
  "kernelspec": {
   "display_name": "Python [default]",
   "language": "python",
   "name": "python2"
  },
  "language_info": {
   "codemirror_mode": {
    "name": "ipython",
    "version": 2
   },
   "file_extension": ".py",
   "mimetype": "text/x-python",
   "name": "python",
   "nbconvert_exporter": "python",
   "pygments_lexer": "ipython2",
   "version": "2.7.12"
  }
 },
 "nbformat": 4,
 "nbformat_minor": 0
}
