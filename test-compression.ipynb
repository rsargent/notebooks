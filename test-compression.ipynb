{
 "cells": [
  {
   "cell_type": "code",
   "execution_count": 12,
   "metadata": {
    "collapsed": true
   },
   "outputs": [],
   "source": [
    "import array, gzip, StringIO, urllib, urllib2\n",
    "\n",
    "def benchmark(label, data):\n",
    "    zipped = StringIO.StringIO()\n",
    "    zipper = gzip.GzipFile(fileobj = zipped, mode='wb')\n",
    "    zipper.write(data)\n",
    "    zipper.close()\n",
    "    print \"%.2fM / %.2fM: %s\" % (len(zipped.getvalue()) / 1e6, len(data) / 1e6, label)"
   ]
  },
  {
   "cell_type": "code",
   "execution_count": 13,
   "metadata": {
    "collapsed": false
   },
   "outputs": [
    {
     "name": "stdout",
     "output_type": "stream",
     "text": [
      "18.41M / 26.06M: Original, xyz_time float row-major\n"
     ]
    }
   ],
   "source": [
    "xyz_time_bin = open('viirs-2014.timev').read()\n",
    "benchmark(\"xyz_time float row-major\", xyz_time_bin)\n",
    "xyz_time = array.array('f', xyz_time_bin)"
   ]
  },
  {
   "cell_type": "code",
   "execution_count": 14,
   "metadata": {
    "collapsed": false
   },
   "outputs": [
    {
     "name": "stdout",
     "output_type": "stream",
     "text": [
      "15.16M / 26.06M: Original lonlat float row-major\n"
     ]
    }
   ],
   "source": [
    "lonlat_time_temp_bin = urllib2.urlopen('https://data.cmucreatelab.org/createlab-viirs/createlab-viirs-uncorrected-20140314-20150403.bin').read()\n",
    "benchmark(\"lonlat_time_temp float row-major\", lonlat_time_temp_bin)\n",
    "lonlat_time_temp = array.array('f', lonlat_time_temp_bin)"
   ]
  },
  {
   "cell_type": "code",
   "execution_count": 22,
   "metadata": {
    "collapsed": false
   },
   "outputs": [
    {
     "name": "stdout",
     "output_type": "stream",
     "text": [
      "11.30M / 19.54M: lonlat_time float row-major\n"
     ]
    }
   ],
   "source": [
    "lonlat_time = []\n",
    "for i in range(0, len(lonlat_time_temp), 4):\n",
    "    lonlat_time.append(lonlat_time_temp[i + 0])\n",
    "    lonlat_time.append(lonlat_time_temp[i + 1])\n",
    "    lonlat_time.append(lonlat_time_temp[i + 2])\n",
    "lonlat_time_bin = array.array('f', lonlat_time).tostring()\n",
    "benchmark(\"lonlat_time float row-major\", lonlat_time_bin)"
   ]
  },
  {
   "cell_type": "code",
   "execution_count": 19,
   "metadata": {
    "collapsed": false
   },
   "outputs": [
    {
     "data": {
      "text/plain": [
       "[171.02980041503906, 61.905250549316406, 1394773721088.0]"
      ]
     },
     "execution_count": 19,
     "metadata": {},
     "output_type": "execute_result"
    }
   ],
   "source": [
    "lonlat_time[0:3]"
   ]
  },
  {
   "cell_type": "code",
   "execution_count": 21,
   "metadata": {
    "collapsed": false
   },
   "outputs": [
    {
     "data": {
      "text/plain": [
       "19542672"
      ]
     },
     "execution_count": 21,
     "metadata": {},
     "output_type": "execute_result"
    }
   ],
   "source": []
  },
  {
   "cell_type": "code",
   "execution_count": null,
   "metadata": {
    "collapsed": true
   },
   "outputs": [],
   "source": []
  }
 ],
 "metadata": {
  "kernelspec": {
   "display_name": "Python 2",
   "language": "python",
   "name": "python2"
  },
  "language_info": {
   "codemirror_mode": {
    "name": "ipython",
    "version": 2
   },
   "file_extension": ".py",
   "mimetype": "text/x-python",
   "name": "python",
   "nbconvert_exporter": "python",
   "pygments_lexer": "ipython2",
   "version": "2.7.11"
  },
  "widgets": {
   "state": {},
   "version": "1.1.2"
  }
 },
 "nbformat": 4,
 "nbformat_minor": 0
}
